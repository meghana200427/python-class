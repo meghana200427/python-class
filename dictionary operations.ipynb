{
 "cells": [
  {
   "cell_type": "code",
   "execution_count": 1,
   "id": "537b1fcd-ecd7-4a76-8620-c9103feb233c",
   "metadata": {},
   "outputs": [
    {
     "name": "stdout",
     "output_type": "stream",
     "text": [
      "{'name': 'maggie', 'age': 21, 'city': 'vijayawada'}\n",
      "accessing and modifing the person age\n"
     ]
    },
    {
     "ename": "NameError",
     "evalue": "name 'age' is not defined",
     "output_type": "error",
     "traceback": [
      "\u001b[1;31m---------------------------------------------------------------------------\u001b[0m",
      "\u001b[1;31mNameError\u001b[0m                                 Traceback (most recent call last)",
      "Cell \u001b[1;32mIn[1], line 6\u001b[0m\n\u001b[0;32m      4\u001b[0m \u001b[38;5;28mprint\u001b[39m(\u001b[38;5;124m'\u001b[39m\u001b[38;5;124maccessing and modifing the person age\u001b[39m\u001b[38;5;124m'\u001b[39m)\n\u001b[0;32m      5\u001b[0m person[\u001b[38;5;124m'\u001b[39m\u001b[38;5;124mage\u001b[39m\u001b[38;5;124m'\u001b[39m]\u001b[38;5;241m=\u001b[39m\u001b[38;5;241m20\u001b[39m\n\u001b[1;32m----> 6\u001b[0m \u001b[38;5;28mprint\u001b[39m(age)\n",
      "\u001b[1;31mNameError\u001b[0m: name 'age' is not defined"
     ]
    }
   ],
   "source": [
    "#dictionary operations\n",
    "person={'name':'maggie','age':21,'city':'vijayawada'}\n",
    "print(person)\n",
    "print('accessing and modifing the person age')\n",
    "person['age']=20\n",
    "print(person)\n",
    "print('adding and removing items')\n",
    "person['email']=meghanasunkara2003@gmail.com\n",
    "print(person)\n",
    "del person['city']\n",
    "print(person)\n",
    "print('all keys and values')\n",
    "print(person.keys())\n",
    "print(person.items())\n",
    "print(person.values())\n",
    "print(person.get('age'))"
   ]
  },
  {
   "cell_type": "code",
   "execution_count": null,
   "id": "40d9d960-30ef-4e33-93f1-eec8e3e0760e",
   "metadata": {},
   "outputs": [],
   "source": []
  }
 ],
 "metadata": {
  "kernelspec": {
   "display_name": "Python 3 (ipykernel)",
   "language": "python",
   "name": "python3"
  },
  "language_info": {
   "codemirror_mode": {
    "name": "ipython",
    "version": 3
   },
   "file_extension": ".py",
   "mimetype": "text/x-python",
   "name": "python",
   "nbconvert_exporter": "python",
   "pygments_lexer": "ipython3",
   "version": "3.12.7"
  }
 },
 "nbformat": 4,
 "nbformat_minor": 5
}
