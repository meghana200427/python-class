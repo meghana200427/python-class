{
 "cells": [
  {
   "cell_type": "code",
   "execution_count": 1,
   "id": "378eb444-31cd-49b8-a8c0-69ca019b5595",
   "metadata": {},
   "outputs": [
    {
     "name": "stdout",
     "output_type": "stream",
     "text": [
      "[[1, 2], [3, 4], [4, 5]]\n",
      "[1, 2]\n",
      "3\n",
      "modify\n",
      "[[1, 2], [3, 4], [4, 99]]\n"
     ]
    }
   ],
   "source": [
    "#list with in a list\n",
    "nest=[[1,2],[3,4],[4,5]]\n",
    "print(nest)\n",
    "print(nest[0])\n",
    "print(nest[1][0])\n",
    "print(\"modify\")\n",
    "nest[2][1]=99\n",
    "print(nest)"
   ]
  },
  {
   "cell_type": "code",
   "execution_count": null,
   "id": "107c54a1-122e-4dbb-9e7f-3ba4d0b20fe3",
   "metadata": {},
   "outputs": [],
   "source": []
  }
 ],
 "metadata": {
  "kernelspec": {
   "display_name": "Python 3 (ipykernel)",
   "language": "python",
   "name": "python3"
  },
  "language_info": {
   "codemirror_mode": {
    "name": "ipython",
    "version": 3
   },
   "file_extension": ".py",
   "mimetype": "text/x-python",
   "name": "python",
   "nbconvert_exporter": "python",
   "pygments_lexer": "ipython3",
   "version": "3.12.7"
  }
 },
 "nbformat": 4,
 "nbformat_minor": 5
}
