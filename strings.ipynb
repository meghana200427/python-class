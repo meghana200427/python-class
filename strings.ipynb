{
 "cells": [
  {
   "cell_type": "code",
   "execution_count": 1,
   "id": "34e2d962-b999-4ab8-a62c-ecde0a643b80",
   "metadata": {},
   "outputs": [
    {
     "name": "stdin",
     "output_type": "stream",
     "text": [
      "enter a string meghana\n"
     ]
    },
    {
     "name": "stdout",
     "output_type": "stream",
     "text": [
      "meghana\n",
      "7\n",
      "MEGHANA\n",
      "meghana\n",
      "eg\n",
      "anahgem\n"
     ]
    }
   ],
   "source": [
    "s=str(input(\"enter a string\"))\n",
    "print(s)\n",
    "print(len(s))\n",
    "print(s.upper())\n",
    "print(s.lower())\n",
    "print(s[1:3])\n",
    "print(s[::-1])"
   ]
  },
  {
   "cell_type": "code",
   "execution_count": null,
   "id": "be5b926f-bd95-4866-8606-dad1d3349c78",
   "metadata": {},
   "outputs": [],
   "source": []
  }
 ],
 "metadata": {
  "kernelspec": {
   "display_name": "Python 3 (ipykernel)",
   "language": "python",
   "name": "python3"
  },
  "language_info": {
   "codemirror_mode": {
    "name": "ipython",
    "version": 3
   },
   "file_extension": ".py",
   "mimetype": "text/x-python",
   "name": "python",
   "nbconvert_exporter": "python",
   "pygments_lexer": "ipython3",
   "version": "3.12.7"
  }
 },
 "nbformat": 4,
 "nbformat_minor": 5
}
