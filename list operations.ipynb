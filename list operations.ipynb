{
 "cells": [
  {
   "cell_type": "code",
   "execution_count": 1,
   "id": "30ea58a8-8a81-4445-868d-596a9d904441",
   "metadata": {},
   "outputs": [
    {
     "name": "stdout",
     "output_type": "stream",
     "text": [
      "['apple', 'banana', 'orange']\n"
     ]
    }
   ],
   "source": [
    "#list operations\n",
    "fruits=['apple','banana','orange']\n",
    "print(fruits)\n"
   ]
  },
  {
   "cell_type": "code",
   "execution_count": 2,
   "id": "9a58d832-fb0c-4a87-b052-f861969d1b82",
   "metadata": {},
   "outputs": [
    {
     "name": "stdout",
     "output_type": "stream",
     "text": [
      "['apple', 'banana', 'orange']\n",
      "['apple', 'banana', 'orange', 'carrot']\n",
      "['apple', 'orange', 'carrot']\n"
     ]
    }
   ],
   "source": [
    "#list operations\n",
    "fruits=['apple','banana','orange']\n",
    "print(fruits)\n",
    "fruits.append('carrot')\n",
    "print(fruits)\n",
    "fruits.remove('banana')\n",
    "print(fruits)\n",
    "\n"
   ]
  },
  {
   "cell_type": "code",
   "execution_count": null,
   "id": "287949ac-09a6-4b08-829b-f02220db3a7b",
   "metadata": {},
   "outputs": [],
   "source": []
  }
 ],
 "metadata": {
  "kernelspec": {
   "display_name": "Python 3 (ipykernel)",
   "language": "python",
   "name": "python3"
  },
  "language_info": {
   "codemirror_mode": {
    "name": "ipython",
    "version": 3
   },
   "file_extension": ".py",
   "mimetype": "text/x-python",
   "name": "python",
   "nbconvert_exporter": "python",
   "pygments_lexer": "ipython3",
   "version": "3.12.7"
  }
 },
 "nbformat": 4,
 "nbformat_minor": 5
}
