{
 "cells": [
  {
   "cell_type": "code",
   "execution_count": 15,
   "id": "c5a61538-00dd-40dd-a191-a15ebdea40a4",
   "metadata": {},
   "outputs": [
    {
     "name": "stdin",
     "output_type": "stream",
     "text": [
      "enter starting number 6\n"
     ]
    },
    {
     "name": "stdout",
     "output_type": "stream",
     "text": [
      " \n",
      " player A's turn. current number 6\n"
     ]
    },
    {
     "name": "stdin",
     "output_type": "stream",
     "text": [
      "player A,subtract 1 or 2: 1\n"
     ]
    },
    {
     "name": "stdout",
     "output_type": "stream",
     "text": [
      " \n",
      " player B's turn. current number 5\n"
     ]
    },
    {
     "name": "stdin",
     "output_type": "stream",
     "text": [
      "player B,subtract 1 or 2: 2\n"
     ]
    },
    {
     "name": "stdout",
     "output_type": "stream",
     "text": [
      " \n",
      " player A's turn. current number 3\n"
     ]
    },
    {
     "name": "stdin",
     "output_type": "stream",
     "text": [
      "player A,subtract 1 or 2: 2\n"
     ]
    },
    {
     "name": "stdout",
     "output_type": "stream",
     "text": [
      " \n",
      " player B's turn. current number 1\n"
     ]
    },
    {
     "name": "stdin",
     "output_type": "stream",
     "text": [
      "player B,subtract 1 or 2: 1\n"
     ]
    },
    {
     "name": "stdout",
     "output_type": "stream",
     "text": [
      "player A reached 0!! player A loses\n"
     ]
    }
   ],
   "source": [
    "def player_A(n):\n",
    "    if n<=0:\n",
    "        print(\"player A reached 0!! player A loses\")\n",
    "        return\n",
    "    print(f\" \\n player A's turn. current number {n}\")\n",
    "    move= int(input(\"player A,subtract 1 or 2:\"))\n",
    "    while move not in [1,2]:\n",
    "        move=int(input(\"player A, subtract 1 or 2:\"))\n",
    "    player_B(n-move)\n",
    "def player_B(n):\n",
    "    if n<=0:\n",
    "        print(\"player B reached 0!! player B loses\")\n",
    "        return\n",
    "    print(f\" \\n player B's turn. current number {n}\")\n",
    "    move= int(input(\"player B,subtract 1 or 2:\"))\n",
    "    while move not in [1,2]:\n",
    "        move=int(input(\"player B, subtract 1 or 2:\"))\n",
    "    player_A(n-move)\n",
    "start=int(input(\"enter starting number\"))\n",
    "player_A(start)"
   ]
  },
  {
   "cell_type": "code",
   "execution_count": null,
   "id": "589609fa-a004-4ece-bc8a-d09698c6c4e5",
   "metadata": {},
   "outputs": [],
   "source": []
  }
 ],
 "metadata": {
  "kernelspec": {
   "display_name": "Python 3 (ipykernel)",
   "language": "python",
   "name": "python3"
  },
  "language_info": {
   "codemirror_mode": {
    "name": "ipython",
    "version": 3
   },
   "file_extension": ".py",
   "mimetype": "text/x-python",
   "name": "python",
   "nbconvert_exporter": "python",
   "pygments_lexer": "ipython3",
   "version": "3.12.7"
  }
 },
 "nbformat": 4,
 "nbformat_minor": 5
}
