{
 "cells": [
  {
   "cell_type": "code",
   "execution_count": 3,
   "id": "05739ace-cf24-49fe-800b-4c8fdebf8ee1",
   "metadata": {},
   "outputs": [
    {
     "name": "stdout",
     "output_type": "stream",
     "text": [
      "33\n",
      "33\n",
      "3\n",
      "('meghana', 33, 'engineer', 'meghana', 33, 'engineer')\n",
      "('meghana', 33, 'engineer', 3, 4)\n"
     ]
    }
   ],
   "source": [
    "#tuple sample\n",
    "info=(\"meghana\",33,\"engineer\")\n",
    "print(info[1])\n",
    "print(info[-2])\n",
    "print(len(info))\n",
    "print(info*2)\n",
    "print(info+(3,4))"
   ]
  },
  {
   "cell_type": "code",
   "execution_count": 5,
   "id": "17f187c6-d119-457b-983b-4f9052bac5db",
   "metadata": {},
   "outputs": [
    {
     "name": "stdout",
     "output_type": "stream",
     "text": [
      "(3, 4)\n"
     ]
    }
   ],
   "source": [
    "#nested tuple\n",
    "nest=((1,2),(3,4),(5,6))\n",
    "print(nest[1])"
   ]
  },
  {
   "cell_type": "code",
   "execution_count": null,
   "id": "4338c521-906d-45c1-ae59-4b350c843a38",
   "metadata": {},
   "outputs": [],
   "source": [
    "nest=((1,2),('a',4),(5,))\n",
    "print([1])\n",
    "print(nest[0][1])"
   ]
  }
 ],
 "metadata": {
  "kernelspec": {
   "display_name": "Python 3 (ipykernel)",
   "language": "python",
   "name": "python3"
  },
  "language_info": {
   "codemirror_mode": {
    "name": "ipython",
    "version": 3
   },
   "file_extension": ".py",
   "mimetype": "text/x-python",
   "name": "python",
   "nbconvert_exporter": "python",
   "pygments_lexer": "ipython3",
   "version": "3.12.7"
  }
 },
 "nbformat": 4,
 "nbformat_minor": 5
}
