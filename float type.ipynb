{
 "cells": [
  {
   "cell_type": "code",
   "execution_count": 1,
   "id": "3b2bf207-9062-4b00-9cb2-601d9bcb7be0",
   "metadata": {},
   "outputs": [
    {
     "name": "stdin",
     "output_type": "stream",
     "text": [
      "enter a name meghana\n",
      "enter a name sunkara\n"
     ]
    },
    {
     "name": "stdout",
     "output_type": "stream",
     "text": [
      "meghanasunkara\n"
     ]
    }
   ],
   "source": [
    "#string operations\n",
    "str1=input(\"enter a name\")\n",
    "str2=input(\"enter a name\")\n",
    "fullname=str1+str2\n",
    "print(fullname)"
   ]
  },
  {
   "cell_type": "code",
   "execution_count": null,
   "id": "1e66bb57-d3cc-4dd3-a639-71b7835db7ed",
   "metadata": {},
   "outputs": [
    {
     "name": "stdin",
     "output_type": "stream",
     "text": [
      "enter a float value 10\n",
      "enter a float value 20\n"
     ]
    }
   ],
   "source": [
    "#float data type sample\n",
    "n1=float(input(\"enter a float value\"))\n",
    "n2=float(input(\"enter a float value\"))\n",
    "print(\"division:\",n1/n2)"
   ]
  },
  {
   "cell_type": "code",
   "execution_count": null,
   "id": "b1c1efb6-d1b7-4c76-bd10-1f900a851737",
   "metadata": {},
   "outputs": [],
   "source": []
  }
 ],
 "metadata": {
  "kernelspec": {
   "display_name": "Python 3 (ipykernel)",
   "language": "python",
   "name": "python3"
  },
  "language_info": {
   "codemirror_mode": {
    "name": "ipython",
    "version": 3
   },
   "file_extension": ".py",
   "mimetype": "text/x-python",
   "name": "python",
   "nbconvert_exporter": "python",
   "pygments_lexer": "ipython3",
   "version": "3.12.7"
  }
 },
 "nbformat": 4,
 "nbformat_minor": 5
}
