{
 "cells": [
  {
   "cell_type": "code",
   "execution_count": 1,
   "id": "219b4317-c256-4de0-b566-8487a64924c8",
   "metadata": {},
   "outputs": [
    {
     "name": "stdout",
     "output_type": "stream",
     "text": [
      "[80, 44, 90]\n"
     ]
    }
   ],
   "source": [
    "student=(\"maggie\",[80,44,90],['math','science','engligh'])\n",
    "print(student[1])"
   ]
  },
  {
   "cell_type": "code",
   "execution_count": 2,
   "id": "19c947c3-e67a-464a-9027-743ad05dc856",
   "metadata": {},
   "outputs": [
    {
     "name": "stdout",
     "output_type": "stream",
     "text": [
      "('maggie', [80, 44, 90], ['math', 'science', 'engligh'])\n"
     ]
    }
   ],
   "source": [
    "student=(\"maggie\",[80,44,90],['math','science','engligh'])\n",
    "print(student)"
   ]
  },
  {
   "cell_type": "code",
   "execution_count": 3,
   "id": "9df2b0be-2234-429b-9d78-4e15b94f40fc",
   "metadata": {},
   "outputs": [
    {
     "name": "stdout",
     "output_type": "stream",
     "text": [
      "maggie\n"
     ]
    }
   ],
   "source": [
    "student=(\"maggie\",[80,44,90],['math','science','engligh'])\n",
    "print(student[0])"
   ]
  },
  {
   "cell_type": "code",
   "execution_count": null,
   "id": "32492372-996d-4c36-8268-0e5e32a27ad6",
   "metadata": {},
   "outputs": [],
   "source": []
  }
 ],
 "metadata": {
  "kernelspec": {
   "display_name": "Python 3 (ipykernel)",
   "language": "python",
   "name": "python3"
  },
  "language_info": {
   "codemirror_mode": {
    "name": "ipython",
    "version": 3
   },
   "file_extension": ".py",
   "mimetype": "text/x-python",
   "name": "python",
   "nbconvert_exporter": "python",
   "pygments_lexer": "ipython3",
   "version": "3.12.7"
  }
 },
 "nbformat": 4,
 "nbformat_minor": 5
}
